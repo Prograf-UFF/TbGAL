{
 "cells": [
  {
   "cell_type": "code",
   "execution_count": 37,
   "metadata": {},
   "outputs": [],
   "source": [
    "import os\n",
    "import sys\n",
    "sys.path.append(os.path.join(\"..\", \"..\", \"..\", \"build\", \"lib\"))\n",
    "from TbGAl.metric import EuclideanMetric\n",
    "from TbGAl.multivector import *\n",
    "from math import sin, cos, atan2, pi\n",
    "from TbGAl.sparse_tensor import *\n",
    "import numpy as np\n",
    "import itertools"
   ]
  },
  {
   "cell_type": "code",
   "execution_count": 2,
   "metadata": {},
   "outputs": [],
   "source": [
    "set_device(1)"
   ]
  },
  {
   "cell_type": "code",
   "execution_count": 3,
   "metadata": {},
   "outputs": [],
   "source": [
    "DIMS = 10"
   ]
  },
  {
   "cell_type": "code",
   "execution_count": 4,
   "metadata": {},
   "outputs": [],
   "source": [
    "Multivector.set_N(DIMS)"
   ]
  },
  {
   "cell_type": "code",
   "execution_count": 5,
   "metadata": {},
   "outputs": [],
   "source": [
    "generate_T(EuclideanMetric())"
   ]
  },
  {
   "cell_type": "code",
   "execution_count": 6,
   "metadata": {},
   "outputs": [],
   "source": [
    "e1 = e(1)\n",
    "e2 = e(2)\n",
    "e3 = e(3)\n",
    "e4 = e(4)\n",
    "e5 = e(5)\n",
    "e6 = e(6)\n",
    "e7 = e(7)\n",
    "e8 = e(8)"
   ]
  },
  {
   "cell_type": "markdown",
   "metadata": {},
   "source": [
    "# Objetivo: Calcular AB diretamente sobre os fatores"
   ]
  },
  {
   "cell_type": "markdown",
   "metadata": {},
   "source": [
    "#### Sendo A = e1^e3^e4 - e1^e3^e5 + e2^e3^e4 - e2^e3^e5"
   ]
  },
  {
   "cell_type": "code",
   "execution_count": 7,
   "metadata": {},
   "outputs": [
    {
     "data": {
      "text/plain": [
       "[0.707107e(1)+0.707107e(2), e(3), 0.707107e(4)-0.707107e(5)]"
      ]
     },
     "execution_count": 7,
     "metadata": {},
     "output_type": "execute_result"
    }
   ],
   "source": [
    "A = [0.70710678 * e1 + 0.70710678 * e2, e3, 0.70710678 * e4 - 0.70710678 * e5]\n",
    "A"
   ]
  },
  {
   "cell_type": "code",
   "execution_count": 81,
   "metadata": {},
   "outputs": [],
   "source": [
    "def process_factors(factors_A, factor_B):\n",
    "    new_factors_A = []\n",
    "    inv_factor_B = INVERSE(factor_B)\n",
    "    new_factor = GP(factors_A[0], inv_factor_B)\n",
    "#     if new_factor.getGrade() == 2:\n",
    "#         new_factors_A.append(process_factors(fact_versor(new_factor), factor_B))\n",
    "#     else:\n",
    "    new_factors_A.append(new_factor)        \n",
    "    for i in range(1, len(A)):\n",
    "#         print(\"fai: \", factors_A[i])\n",
    "        new_factor = GP(GP(factor_B, factors_A[i]), inv_factor_B)\n",
    "#         if new_factor.getGrade() == 2:\n",
    "#             new_factors_A.append(process_factors(fact_versor(new_factor), factor_B))\n",
    "#         else:\n",
    "        new_factors_A.append(new_factor)\n",
    "    \n",
    "    return new_factors_A\n",
    "#     return list(itertools.chain.from_iterable(new_factors_A))"
   ]
  },
  {
   "cell_type": "code",
   "execution_count": 107,
   "metadata": {},
   "outputs": [],
   "source": [
    "def geometric_product_fact(factors_A, factors_B):\n",
    "    new_factors = factors_A\n",
    "#     print(\"NF: \", new_factors)\n",
    "    count = 0\n",
    "    for f in factors_B:\n",
    "#         print(new_factors)\n",
    "        newest_factors = []\n",
    "        print(\"count: \", count)\n",
    "        print(\"NF: \", new_factors)\n",
    "        for k in process_factors(new_factors, f):\n",
    "            print(\"K: \", k)\n",
    "            if k.getGrade() == 2:\n",
    "                newest_factors = newest_factors + fact_versor(k)[:-1]\n",
    "            else:\n",
    "                newest_factors.append(k)\n",
    "            print(\"\\t\", newest_factors)\n",
    "        new_factors = newest_factors\n",
    "        count = count + 1\n",
    "    return new_factors"
   ]
  },
  {
   "cell_type": "code",
   "execution_count": 108,
   "metadata": {},
   "outputs": [
    {
     "name": "stdout",
     "output_type": "stream",
     "text": [
      "count:  0\n",
      "NF:  [0.707107e(1)+0.707107e(2), e(3), 0.707107e(4)-0.707107e(5)]\n",
      "K:  0.707107e(1)^e(6)+0.707107e(2)^e(6)\n",
      "\t [e(6), -0.707107e(1)-0.707107e(2)]\n",
      "K:  -1.000000e(3)\n",
      "\t [e(6), -0.707107e(1)-0.707107e(2), -1.000000e(3)]\n",
      "K:  -0.707107e(4)+0.707107e(5)\n",
      "\t [e(6), -0.707107e(1)-0.707107e(2), -1.000000e(3), -0.707107e(4)+0.707107e(5)]\n",
      "count:  1\n",
      "NF:  [e(6), -0.707107e(1)-0.707107e(2), -1.000000e(3), -0.707107e(4)+0.707107e(5)]\n",
      "K:  e(6)^e(7)\n",
      "\t [e(7), -1.000000e(6)]\n",
      "K:  0.707107e(1)+0.707107e(2)\n",
      "\t [e(7), -1.000000e(6), 0.707107e(1)+0.707107e(2)]\n",
      "K:  e(3)\n",
      "\t [e(7), -1.000000e(6), 0.707107e(1)+0.707107e(2), e(3)]\n",
      "count:  2\n",
      "NF:  [e(7), -1.000000e(6), 0.707107e(1)+0.707107e(2), e(3)]\n",
      "K:  e(7)^e(8)\n",
      "\t [e(8), -1.000000e(7)]\n",
      "K:  e(6)\n",
      "\t [e(8), -1.000000e(7), e(6)]\n",
      "K:  -0.707107e(1)-0.707107e(2)\n",
      "\t [e(8), -1.000000e(7), e(6), -0.707107e(1)-0.707107e(2)]\n"
     ]
    },
    {
     "data": {
      "text/plain": [
       "[e(8), -1.000000e(7), e(6), -0.707107e(1)-0.707107e(2)]"
      ]
     },
     "execution_count": 108,
     "metadata": {},
     "output_type": "execute_result"
    }
   ],
   "source": [
    "geometric_product_fact(A, B)"
   ]
  },
  {
   "cell_type": "code",
   "execution_count": 69,
   "metadata": {},
   "outputs": [
    {
     "data": {
      "text/plain": [
       "[0.707107e(1)+0.707107e(2), e(3), 0.707107e(4)-0.707107e(5)]"
      ]
     },
     "execution_count": 69,
     "metadata": {},
     "output_type": "execute_result"
    }
   ],
   "source": [
    "A"
   ]
  },
  {
   "cell_type": "code",
   "execution_count": 70,
   "metadata": {},
   "outputs": [
    {
     "name": "stdout",
     "output_type": "stream",
     "text": [
      "fai:  -0.707107e(1)-0.707107e(2)\n",
      "fai:  1.000000\n",
      "fai:  e(3)\n",
      "fai:  0.707107e(4)-0.707107e(5)\n"
     ]
    },
    {
     "data": {
      "text/plain": [
       "[1.000000,\n",
       " 0.707107e(1)+0.707107e(2),\n",
       " 1.000000,\n",
       " -1.000000e(3),\n",
       " -0.707107e(4)+0.707107e(5)]"
      ]
     },
     "execution_count": 70,
     "metadata": {},
     "output_type": "execute_result"
    }
   ],
   "source": [
    "process_factors(A, e6)"
   ]
  },
  {
   "cell_type": "code",
   "execution_count": 71,
   "metadata": {},
   "outputs": [
    {
     "name": "stdout",
     "output_type": "stream",
     "text": [
      "fai:  -0.707107e(1)-0.707107e(2)\n",
      "fai:  1.000000\n",
      "fai:  e(3)\n",
      "fai:  0.707107e(4)-0.707107e(5)\n",
      "fai:  0.707107e(1)+0.707107e(2)\n",
      "fai:  1.000000\n"
     ]
    },
    {
     "data": {
      "text/plain": [
       "[e(7), -0.707107e(1)-0.707107e(2), 1.000000]"
      ]
     },
     "execution_count": 71,
     "metadata": {},
     "output_type": "execute_result"
    }
   ],
   "source": [
    "process_factors(process_factors(A, e6), e7)"
   ]
  },
  {
   "cell_type": "markdown",
   "metadata": {},
   "source": [
    "### Situação 1: B possui dependência linear com alguns fatores de A"
   ]
  },
  {
   "cell_type": "markdown",
   "metadata": {},
   "source": [
    "#### B = e1+e2"
   ]
  },
  {
   "cell_type": "code",
   "execution_count": 15,
   "metadata": {},
   "outputs": [
    {
     "data": {
      "text/plain": [
       "[0.707107e(1)+0.707107e(2), e(3)]"
      ]
     },
     "execution_count": 15,
     "metadata": {},
     "output_type": "execute_result"
    }
   ],
   "source": [
    "B = [0.707107 * e1 + 0.707107 * e2, e3]\n",
    "B"
   ]
  },
  {
   "cell_type": "markdown",
   "metadata": {},
   "source": [
    "### Situação 2: B não possui dependência linear com alguns fatores de A"
   ]
  },
  {
   "cell_type": "markdown",
   "metadata": {},
   "source": [
    "#### B = 1 + e6"
   ]
  },
  {
   "cell_type": "code",
   "execution_count": 72,
   "metadata": {},
   "outputs": [],
   "source": [
    "B = [e6, e7, e8]"
   ]
  },
  {
   "cell_type": "code",
   "execution_count": null,
   "metadata": {},
   "outputs": [],
   "source": []
  }
 ],
 "metadata": {
  "kernelspec": {
   "display_name": "Python 3",
   "language": "python",
   "name": "python3"
  },
  "language_info": {
   "codemirror_mode": {
    "name": "ipython",
    "version": 3
   },
   "file_extension": ".py",
   "mimetype": "text/x-python",
   "name": "python",
   "nbconvert_exporter": "python",
   "pygments_lexer": "ipython3",
   "version": "3.7.0"
  }
 },
 "nbformat": 4,
 "nbformat_minor": 2
}
