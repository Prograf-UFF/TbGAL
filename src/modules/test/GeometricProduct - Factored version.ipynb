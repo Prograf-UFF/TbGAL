{
 "cells": [
  {
   "cell_type": "code",
   "execution_count": 1,
   "metadata": {},
   "outputs": [],
   "source": [
    "import os\n",
    "import sys\n",
    "sys.path.append(os.path.join(\"..\", \"..\", \"..\", \"build\", \"lib\"))\n",
    "from TbGAl.metric import EuclideanMetric\n",
    "from TbGAl.multivector import *\n",
    "from TbGAl.sparse_tensor import *"
   ]
  },
  {
   "cell_type": "markdown",
   "metadata": {},
   "source": [
    "### Configuração do ambiente da minha biblioteca"
   ]
  },
  {
   "cell_type": "code",
   "execution_count": 2,
   "metadata": {},
   "outputs": [],
   "source": [
    "# set_device(0)"
   ]
  },
  {
   "cell_type": "code",
   "execution_count": 3,
   "metadata": {},
   "outputs": [],
   "source": [
    "DIMS = 10"
   ]
  },
  {
   "cell_type": "code",
   "execution_count": 4,
   "metadata": {},
   "outputs": [],
   "source": [
    "Multivector.set_N(DIMS)"
   ]
  },
  {
   "cell_type": "code",
   "execution_count": 5,
   "metadata": {},
   "outputs": [],
   "source": [
    "generate_T(EuclideanMetric())"
   ]
  },
  {
   "cell_type": "code",
   "execution_count": 6,
   "metadata": {},
   "outputs": [],
   "source": [
    "e1 = e(1)\n",
    "e2 = e(2)\n",
    "e3 = e(3)\n",
    "e4 = e(4)\n",
    "e5 = e(5)\n",
    "e6 = e(6)\n",
    "e7 = e(7)\n",
    "e8 = e(8)"
   ]
  },
  {
   "cell_type": "markdown",
   "metadata": {},
   "source": [
    "## Funções utilitárias"
   ]
  },
  {
   "cell_type": "code",
   "execution_count": 7,
   "metadata": {},
   "outputs": [],
   "source": [
    "def process_factors(factors_A, factor_B):\n",
    "    '''\n",
    "        Processa a lista de fatores A para um fator de B. Se o fator resultante possuir grau > 2, \n",
    "        isso significa que não é um fator e sim um versor de grau > 2, devendo ser fatorado novamente\n",
    "        e adicionado à lista de fatores resultantes\n",
    "    '''\n",
    "    new_factors_A = []\n",
    "    inv_factor_B = INVERSE(factor_B)\n",
    "    new_factor = GP(factors_A[0], inv_factor_B)\n",
    "    if new_factor.getGrade() == 2:\n",
    "        new_factors_A += fact_versor(new_factor)[:-1]\n",
    "    else:\n",
    "        new_factors_A.append(new_factor)\n",
    "    for i in range(1, len(factors_A)):\n",
    "        new_factor = GP(GP(factor_B, factors_A[i]), inv_factor_B)\n",
    "        if new_factor.getGrade() == 2:\n",
    "            new_factors_A += fact_versor(new_factor)[:-1]\n",
    "        else:\n",
    "            new_factors_A.append(new_factor)\n",
    "    return new_factors_A"
   ]
  },
  {
   "cell_type": "code",
   "execution_count": 8,
   "metadata": {},
   "outputs": [],
   "source": [
    "def geometric_product_fact(factors_A, factors_B):\n",
    "    '''\n",
    "        Processa o conjunto de fatores de A e B. Utiliza a função process_factors como auxiliar\n",
    "    '''\n",
    "    new_factors = factors_A\n",
    "    for f in factors_B:\n",
    "        newest_factors = []\n",
    "        for k in process_factors(new_factors, f):\n",
    "            newest_factors.append(k)\n",
    "        new_factors = newest_factors\n",
    "    return new_factors"
   ]
  },
  {
   "cell_type": "markdown",
   "metadata": {},
   "source": [
    "# Objetivo: Calcular AB diretamente sobre os fatores"
   ]
  },
  {
   "cell_type": "markdown",
   "metadata": {},
   "source": [
    "## Sendo A = 1/2 (e1^e3^e4 - e1^e3^e5 + e2^e3^e4 - e2^e3^e5)"
   ]
  },
  {
   "cell_type": "code",
   "execution_count": 9,
   "metadata": {},
   "outputs": [
    {
     "data": {
      "text/plain": [
       "[0.707107e(1)+0.707107e(2), e(3), 0.707107e(4)-0.707107e(5)]"
      ]
     },
     "execution_count": 9,
     "metadata": {},
     "output_type": "execute_result"
    }
   ],
   "source": [
    "A = [0.70710678 * e1 + 0.70710678 * e2, e3, 0.70710678 * e4 - 0.70710678 * e5]\n",
    "A"
   ]
  },
  {
   "cell_type": "markdown",
   "metadata": {},
   "source": [
    "## Situação 1: B possui dependência linear com alguns fatores de A\n",
    "> ### B = sqrt(2)/2 (e1^e3+e2^e3)"
   ]
  },
  {
   "cell_type": "code",
   "execution_count": 10,
   "metadata": {},
   "outputs": [
    {
     "data": {
      "text/plain": [
       "[0.707107e(1)+0.707107e(2), e(3)]"
      ]
     },
     "execution_count": 10,
     "metadata": {},
     "output_type": "execute_result"
    }
   ],
   "source": [
    "B = [0.707107 * e1 + 0.707107 * e2, e3]\n",
    "B"
   ]
  },
  {
   "cell_type": "markdown",
   "metadata": {},
   "source": [
    ">>### A saída do produto geométrico em sua forma não-fatorada deve ser \n",
    ">>### A B = -0.7071074376271083 * e4 + 0.7071074376271083 * e5"
   ]
  },
  {
   "cell_type": "code",
   "execution_count": 11,
   "metadata": {},
   "outputs": [
    {
     "data": {
      "text/plain": [
       "[1.000000e(3), -1.000000e(3), 0.707107e(4)-0.707107e(5)]"
      ]
     },
     "execution_count": 11,
     "metadata": {},
     "output_type": "execute_result"
    }
   ],
   "source": [
    "geometric_product_fact(A, B)"
   ]
  },
  {
   "cell_type": "markdown",
   "metadata": {},
   "source": [
    "## Situação 2: B não possui dependência linear com nenhum fator de A\n",
    ">### B = e6^e7^e8"
   ]
  },
  {
   "cell_type": "code",
   "execution_count": 12,
   "metadata": {},
   "outputs": [
    {
     "data": {
      "text/plain": [
       "[e(6), e(7), e(8)]"
      ]
     },
     "execution_count": 12,
     "metadata": {},
     "output_type": "execute_result"
    }
   ],
   "source": [
    "B = [e6, e7, e8]\n",
    "B"
   ]
  },
  {
   "cell_type": "markdown",
   "metadata": {},
   "source": [
    ">>### A saída do produto geométrico em sua forma não fatorada deve ser:\n",
    ">>### A B = 1/2 (e1^e3^e4^e6^e7^e8 + e2^e3^e4^e6^e7^e8 - e1^e3^e5^e6^e7^e8 - e2^e3^e5^e6^e7^e8)"
   ]
  },
  {
   "cell_type": "code",
   "execution_count": 13,
   "metadata": {},
   "outputs": [
    {
     "data": {
      "text/plain": [
       "[e(8),\n",
       " -1.000000e(7),\n",
       " e(6),\n",
       " -0.707107e(1)-0.707107e(2),\n",
       " -1.000000e(3),\n",
       " -0.707107e(4)+0.707107e(5)]"
      ]
     },
     "execution_count": 13,
     "metadata": {},
     "output_type": "execute_result"
    }
   ],
   "source": [
    "geometric_product_fact(A, B)"
   ]
  }
 ],
 "metadata": {
  "kernelspec": {
   "display_name": "Python 3",
   "language": "python",
   "name": "python3"
  },
  "language_info": {
   "codemirror_mode": {
    "name": "ipython",
    "version": 3
   },
   "file_extension": ".py",
   "mimetype": "text/x-python",
   "name": "python",
   "nbconvert_exporter": "python",
   "pygments_lexer": "ipython3",
   "version": "3.7.0"
  }
 },
 "nbformat": 4,
 "nbformat_minor": 2
}
