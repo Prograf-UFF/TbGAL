{
 "cells": [
  {
   "cell_type": "code",
   "execution_count": 3,
   "metadata": {},
   "outputs": [
    {
     "name": "stdout",
     "output_type": "stream",
     "text": [
      "The autoreload extension is already loaded. To reload it, use:\n",
      "  %reload_ext autoreload\n"
     ]
    }
   ],
   "source": [
    "from ga import *\n",
    "import os\n",
    "%load_ext autoreload\n",
    "%autoreload 2"
   ]
  },
  {
   "cell_type": "code",
   "execution_count": 4,
   "metadata": {},
   "outputs": [],
   "source": [
    "def read_lines(operator, N, grade):\n",
    "    file = os.path.join('test_data', operator, '{N}.csv'.format(N = N))\n",
    "    start = (grade * (grade + 1) // 2) + grade\n",
    "    with open(file, 'r') as f:\n",
    "        size = 0\n",
    "        idx = 1\n",
    "        while idx != start:\n",
    "            size = f.readline()\n",
    "            idx += 1\n",
    "        size = (int(size)+1)\n",
    "        lines = []\n",
    "        while idx != start + size:\n",
    "            lines.append(f.readline())\n",
    "            idx += 1\n",
    "    return lines"
   ]
  },
  {
   "cell_type": "code",
   "execution_count": 5,
   "metadata": {},
   "outputs": [],
   "source": [
    "def process_lines(factors):\n",
    "    ret = []\n",
    "    for f in factors:\n",
    "        terms = f.split(\",\")\n",
    "        mv = 0\n",
    "        for t in terms:\n",
    "            b, c = (tuple(t.split(\":\")))\n",
    "            basis = int(b)\n",
    "            coeff = float(c)\n",
    "            mv = mv + (coeff * e(basis) if basis != 0 else coeff)\n",
    "        ret.append(mv)\n",
    "    return ret"
   ]
  },
  {
   "cell_type": "code",
   "execution_count": 6,
   "metadata": {},
   "outputs": [],
   "source": [
    "def generate_full_versors(factors):\n",
    "    mv = factors[0]\n",
    "    for i in range(1, len(factors)):\n",
    "        mv = gp_em(mv, factors[i])\n",
    "    return mv"
   ]
  },
  {
   "cell_type": "code",
   "execution_count": null,
   "metadata": {},
   "outputs": [],
   "source": []
  },
  {
   "cell_type": "code",
   "execution_count": 20,
   "metadata": {},
   "outputs": [],
   "source": [
    "R = generate_full_versors(process_lines(read_lines(\"R\", 60, 50)))"
   ]
  },
  {
   "cell_type": "code",
   "execution_count": 21,
   "metadata": {},
   "outputs": [],
   "source": [
    "S = generate_full_versors(process_lines(read_lines(\"S\", 60, 50)))"
   ]
  },
  {
   "cell_type": "code",
   "execution_count": 22,
   "metadata": {},
   "outputs": [
    {
     "name": "stdout",
     "output_type": "stream",
     "text": [
      "16.1 s ± 262 ms per loop (mean ± std. dev. of 7 runs, 1 loop each)\n"
     ]
    }
   ],
   "source": [
    "%timeit gp_em(R, S)"
   ]
  },
  {
   "cell_type": "code",
   "execution_count": null,
   "metadata": {},
   "outputs": [],
   "source": []
  }
 ],
 "metadata": {
  "kernelspec": {
   "display_name": "Python 3",
   "language": "python",
   "name": "python3"
  },
  "language_info": {
   "codemirror_mode": {
    "name": "ipython",
    "version": 3
   },
   "file_extension": ".py",
   "mimetype": "text/x-python",
   "name": "python",
   "nbconvert_exporter": "python",
   "pygments_lexer": "ipython3",
   "version": "3.7.0"
  }
 },
 "nbformat": 4,
 "nbformat_minor": 2
}
