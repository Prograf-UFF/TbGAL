{
 "cells": [
  {
   "cell_type": "code",
   "execution_count": 1,
   "metadata": {},
   "outputs": [],
   "source": [
    "import os\n",
    "import sys\n",
    "sys.path.append(os.path.join(\"..\", \"..\", \"..\", \"build\", \"lib\"))\n",
    "from TbGAl.metric import EuclideanMetric\n",
    "from TbGAl.multivector import *\n",
    "from math import sin, cos, atan2, pi\n",
    "from TbGAl.sparse_tensor import *\n",
    "import numpy as np\n",
    "import random\n",
    "import time"
   ]
  },
  {
   "cell_type": "code",
   "execution_count": 2,
   "metadata": {},
   "outputs": [],
   "source": [
    "def generate_random_blade(n_dims, grade, random_seed=42):\n",
    "    final_blade = []\n",
    "    choices = list(range(1, n_dims+1))\n",
    "    random.seed(random_seed)\n",
    "    np.random.seed(random_seed)\n",
    "    random.shuffle(choices)\n",
    "    for i in range(grade):\n",
    "        factor = np.zeros(n_dims+1)\n",
    "        factor[choices.pop()] = np.random.rand()\n",
    "        final_blade.append(factor)\n",
    "    final_blade.append(np.random.rand())\n",
    "    return final_blade"
   ]
  },
  {
   "cell_type": "code",
   "execution_count": 3,
   "metadata": {},
   "outputs": [],
   "source": [
    "def generate_blades(max_dimensions):\n",
    "    return {i : [generate_random_blade(i, j, int(time.time())) for j in range(i+1)] for i in range(3, max_dimensions)}"
   ]
  },
  {
   "cell_type": "code",
   "execution_count": 8,
   "metadata": {},
   "outputs": [],
   "source": [
    "A = generate_blades(200)"
   ]
  },
  {
   "cell_type": "code",
   "execution_count": 5,
   "metadata": {},
   "outputs": [],
   "source": [
    "B = generate_blades(200)"
   ]
  },
  {
   "cell_type": "code",
   "execution_count": 9,
   "metadata": {},
   "outputs": [
    {
     "data": {
      "text/plain": [
       "[array([0.        , 0.        , 0.        , 0.        , 0.21385479]),\n",
       " array([0.        , 0.        , 0.71746647, 0.        , 0.        ]),\n",
       " array([0.        , 0.        , 0.        , 0.89124139, 0.        ]),\n",
       " 0.987124127747548]"
      ]
     },
     "execution_count": 9,
     "metadata": {},
     "output_type": "execute_result"
    }
   ],
   "source": [
    "A[4][3]"
   ]
  },
  {
   "cell_type": "code",
   "execution_count": 7,
   "metadata": {},
   "outputs": [
    {
     "data": {
      "text/plain": [
       "[array([0.        , 0.19496469, 0.        , 0.        , 0.        ]),\n",
       " array([0.        , 0.        , 0.        , 0.        , 0.35662414]),\n",
       " array([0.        , 0.        , 0.        , 0.79208343, 0.        ]),\n",
       " 0.8226671010541975]"
      ]
     },
     "execution_count": 7,
     "metadata": {},
     "output_type": "execute_result"
    }
   ],
   "source": [
    "B[4][3]"
   ]
  },
  {
   "cell_type": "code",
   "execution_count": 10,
   "metadata": {},
   "outputs": [
    {
     "ename": "RuntimeError",
     "evalue": "Can't allocate basis blade e(1) in a 0-dimensional space",
     "output_type": "error",
     "traceback": [
      "\u001b[0;31m---------------------------------------------------------------------------\u001b[0m",
      "\u001b[0;31mRuntimeError\u001b[0m                              Traceback (most recent call last)",
      "\u001b[0;32m<ipython-input-10-3a64c916fdce>\u001b[0m in \u001b[0;36m<module>\u001b[0;34m()\u001b[0m\n\u001b[0;32m----> 1\u001b[0;31m \u001b[0me\u001b[0m\u001b[0;34m(\u001b[0m\u001b[0;36m1\u001b[0m\u001b[0;34m)\u001b[0m\u001b[0;34m\u001b[0m\u001b[0m\n\u001b[0m",
      "\u001b[0;31mRuntimeError\u001b[0m: Can't allocate basis blade e(1) in a 0-dimensional space"
     ]
    }
   ],
   "source": [
    "e(1)"
   ]
  },
  {
   "cell_type": "code",
   "execution_count": null,
   "metadata": {},
   "outputs": [],
   "source": []
  }
 ],
 "metadata": {
  "kernelspec": {
   "display_name": "Python 3",
   "language": "python",
   "name": "python3"
  },
  "language_info": {
   "codemirror_mode": {
    "name": "ipython",
    "version": 3
   },
   "file_extension": ".py",
   "mimetype": "text/x-python",
   "name": "python",
   "nbconvert_exporter": "python",
   "pygments_lexer": "ipython3",
   "version": "3.7.0"
  }
 },
 "nbformat": 4,
 "nbformat_minor": 2
}
