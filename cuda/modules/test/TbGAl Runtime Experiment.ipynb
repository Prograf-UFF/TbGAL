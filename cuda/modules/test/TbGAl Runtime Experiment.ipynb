{
 "cells": [
  {
   "cell_type": "code",
   "execution_count": 1,
   "metadata": {},
   "outputs": [],
   "source": [
    "import os\n",
    "import sys\n",
    "sys.path.append(os.path.join(\"..\", \"..\", \"..\", \"build\", \"lib\"))\n",
    "from TbGAl.metric import EuclideanMetric\n",
    "from TbGAl.multivector import *\n",
    "from TbGAl.sparse_tensor import *\n",
    "import os\n",
    "import timeit\n",
    "%load_ext autoreload\n",
    "%autoreload 2"
   ]
  },
  {
   "cell_type": "code",
   "execution_count": 7,
   "metadata": {},
   "outputs": [],
   "source": [
    "# set_device(1)"
   ]
  },
  {
   "cell_type": "code",
   "execution_count": 8,
   "metadata": {},
   "outputs": [],
   "source": [
    "def read_lines(operator, N, grade):\n",
    "    file = os.path.join('test_data', operator, '{N}.csv'.format(N = N))\n",
    "    start = (grade * (grade + 1) // 2) + grade\n",
    "    with open(file, 'r') as f:\n",
    "        size = 0\n",
    "        idx = 1\n",
    "        while idx != start:\n",
    "            size = f.readline()\n",
    "            idx += 1\n",
    "        size = (int(size)+1)\n",
    "        lines = []\n",
    "        while idx != start + size:\n",
    "            lines.append(f.readline())\n",
    "            idx += 1\n",
    "    return lines"
   ]
  },
  {
   "cell_type": "code",
   "execution_count": 9,
   "metadata": {},
   "outputs": [],
   "source": [
    "def process_lines(factors):\n",
    "    ret = []\n",
    "    for f in factors:\n",
    "        terms = f.split(\",\")\n",
    "        mv = e(1)^e(1)\n",
    "        for t in terms:\n",
    "            b, c = (tuple(t.split(\":\")))\n",
    "            basis = int(b)\n",
    "            coeff = float(c)\n",
    "            mv = mv + (coeff * e(basis) if basis != 0 else coeff)\n",
    "        ret.append(mv)\n",
    "    return ret"
   ]
  },
  {
   "cell_type": "code",
   "execution_count": 13,
   "metadata": {},
   "outputs": [],
   "source": [
    "def generate_full_versors(factors):\n",
    "    mv = factors[0]\n",
    "    for i in range(1, len(factors)):\n",
    "        mv = GP(mv, factors[i])\n",
    "    return mv"
   ]
  },
  {
   "cell_type": "code",
   "execution_count": null,
   "metadata": {},
   "outputs": [
    {
     "name": "stdout",
     "output_type": "stream",
     "text": [
      "3\n",
      "4\n",
      "5\n",
      "6\n",
      "7\n",
      "8\n"
     ]
    }
   ],
   "source": [
    "for N in range(3, 201):\n",
    "    DIMS = 130\n",
    "    Multivector.set_N(DIMS)\n",
    "    generate_T(EuclideanMetric())\n",
    "    print(N)\n",
    "    for r in range(3, N+1):\n",
    "        R = generate_full_versors(process_lines(read_lines(\"R\", N, r)))\n",
    "        for s in range(3, N+1):\n",
    "            S = generate_full_versors(process_lines(read_lines(\"S\", N, s)))\n",
    "            GP(R, S)\n",
    "    delete_T()"
   ]
  },
  {
   "cell_type": "code",
   "execution_count": null,
   "metadata": {},
   "outputs": [],
   "source": []
  }
 ],
 "metadata": {
  "kernelspec": {
   "display_name": "Python 3",
   "language": "python",
   "name": "python3"
  },
  "language_info": {
   "codemirror_mode": {
    "name": "ipython",
    "version": 3
   },
   "file_extension": ".py",
   "mimetype": "text/x-python",
   "name": "python",
   "nbconvert_exporter": "python",
   "pygments_lexer": "ipython3",
   "version": "3.7.0"
  }
 },
 "nbformat": 4,
 "nbformat_minor": 2
}
